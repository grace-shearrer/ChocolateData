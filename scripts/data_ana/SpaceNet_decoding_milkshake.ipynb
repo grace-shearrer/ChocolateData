{
 "cells": [
  {
   "cell_type": "markdown",
   "metadata": {},
   "source": [
    "# Decoding with SpaceNet  -- Milkshake Data\n",
    "https://nilearn.github.io/modules/generated/nilearn.decoding.SpaceNetClassifier.html#nilearn.decoding.SpaceNetClassifier"
   ]
  },
  {
   "cell_type": "code",
   "execution_count": 2,
   "metadata": {},
   "outputs": [],
   "source": [
    "import numpy as np\n",
    "import pandas as pd\n",
    "import os\n",
    "import numpy as np\n",
    "import nilearn\n",
    "import glob\n",
    "from nilearn.image import index_img\n",
    "#from nilearn.datasets import load_mni152_brain_mask"
   ]
  },
  {
   "cell_type": "markdown",
   "metadata": {},
   "source": [
    "### Load our Chocolate Milkshake data\n",
    "- Starting with W1 (134 subjects) \n",
    "- We will start with decoding LF_HS vs h2O "
   ]
  },
  {
   "cell_type": "code",
   "execution_count": null,
   "metadata": {},
   "outputs": [],
   "source": [
    "#our behavioral csv file \n",
    "stim = '/projects/niblab/bids_projects/Experiments/ChocoData/behavorial_data/w1_milkshake_all.csv'\n",
    "behavioral = pd.read_csv(stim, sep=\"\\t\")\n",
    "conditions =  behavioral['Label']\n",
    "condition_mask = behavioral[\"Label\"].isin(['LF_HS_receipt', \"h20_receipt\"])\n",
    "imag_mask='/projects/niblab/bids_projects/Experiments/ChocoData/images/power_roimask_4bi.nii.gz'\n",
    "condition_mask_train = (condition_mask) & (behavioral['sub'] == 0)\n",
    "condition_mask_test = (condition_mask) & (behavioral['sub']  == 1)\n",
    "\n",
    "# Apply this sample mask to X (fMRI data) and y (behavioral labels)\n",
    "# Because the data is in one single large 4D image, we need to use\n",
    "# index_img to do the split easily\n",
    "func_filenames='/projects/niblab/bids_projects/Experiments/ChocoData/images/w1_milkshake_all.nii.gz'\n",
    "X_train = index_img(func_filenames, condition_mask_train)\n",
    "X_test = index_img(func_filenames, condition_mask_test)\n",
    "y_train = conditions[condition_mask_train]\n",
    "y_test = conditions[condition_mask_test]\n",
    "\n",
    "# Compute the mean epi to be used for the background of the plotting\n",
    "from nilearn.image import mean_img\n",
    "background_img = mean_img(func_filenames)"
   ]
  }
 ],
 "metadata": {
  "kernelspec": {
   "display_name": "Python 3",
   "language": "python",
   "name": "python3"
  },
  "language_info": {
   "codemirror_mode": {
    "name": "ipython",
    "version": 3
   },
   "file_extension": ".py",
   "mimetype": "text/x-python",
   "name": "python",
   "nbconvert_exporter": "python",
   "pygments_lexer": "ipython3",
   "version": "3.6.5"
  }
 },
 "nbformat": 4,
 "nbformat_minor": 2
}

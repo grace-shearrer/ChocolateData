{
 "cells": [
  {
   "cell_type": "code",
   "execution_count": 86,
   "metadata": {},
   "outputs": [
    {
     "name": "stdout",
     "output_type": "stream",
     "text": [
      "Enter txt file: wave2_TEST_2018-06-28-20_44_50.txt\n"
     ]
    }
   ],
   "source": [
    "import pandas as pd\n",
    "\n",
    "dict = {}\n",
    "#wave2_TEST_2018-06-28-20_44_50.txt\n",
    "file = input(\"Enter txt file: \")\n"
   ]
  },
  {
   "cell_type": "code",
   "execution_count": 87,
   "metadata": {},
   "outputs": [
    {
     "data": {
      "text/plain": [
       "{'sub-114': ['task-milkshakeD', 'task-GoNoGo2', 'task-GoNoGo1'],\n",
       " 'sub-078': ['task-milkshakeD', 'task-GoNoGo1', 'task-GoNoGo2'],\n",
       " 'sub-079': ['task-GoNoGo2', 'task-milkshakeD', 'task-GoNoGo1'],\n",
       " 'sub-115': ['task-milkshakeD', 'task-GoNoGo2', 'task-GoNoGo1'],\n",
       " 'sub-081': ['task-milkshakeD', 'task-GoNoGo1', 'task-GoNoGo2'],\n",
       " 'sub-116': ['task-GoNoGo2', 'task-milkshakeD', 'task-GoNoGo1'],\n",
       " 'sub-082': ['task-milkshakeD', 'task-GoNoGo1', 'task-GoNoGo2'],\n",
       " 'sub-117': ['task-milkshakeD', 'task-GoNoGo2', 'task-GoNoGo1'],\n",
       " 'sub-118': ['task-milkshakeD', 'task-GoNoGo2', 'task-GoNoGo1'],\n",
       " 'sub-083': ['task-milkshakeD', 'task-GoNoGo2', 'task-GoNoGo1'],\n",
       " 'sub-084': ['task-milkshakeD', 'task-GoNoGo2', 'task-GoNoGo1'],\n",
       " 'sub-119': ['task-milkshakeD', 'task-GoNoGo1', 'task-GoNoGo2'],\n",
       " 'sub-085': ['task-milkshakeD', 'task-GoNoGo2', 'task-GoNoGo1'],\n",
       " 'sub-120': ['task-GoNoGo1', 'task-GoNoGo2', 'task-milkshakeD'],\n",
       " 'sub-088': ['task-milkshakeD', 'task-GoNoGo1', 'task-GoNoGo2'],\n",
       " 'sub-089': ['task-milkshakeD', 'task-GoNoGo2', 'task-GoNoGo1'],\n",
       " 'sub-121': ['task-milkshakeD', 'task-GoNoGo1', 'task-GoNoGo2'],\n",
       " 'sub-122': ['task-milkshakeD', 'task-GoNoGo2', 'task-GoNoGo1'],\n",
       " 'sub-090': ['task-milkshakeD', 'task-GoNoGo1', 'task-GoNoGo2'],\n",
       " 'sub-091': ['task-milkshakeD', 'task-GoNoGo2', 'task-GoNoGo1'],\n",
       " 'sub-123': ['task-milkshakeD', 'task-GoNoGo2', 'task-GoNoGo1'],\n",
       " 'sub-092': ['task-GoNoGo2', 'task-GoNoGo1', 'task-milkshakeD'],\n",
       " 'sub-125': ['task-milkshakeD', 'task-GoNoGo2', 'task-GoNoGo1'],\n",
       " 'sub-126': ['task-milkshakeD', 'task-GoNoGo1', 'task-GoNoGo2'],\n",
       " 'sub-093': ['task-GoNoGo2', 'task-GoNoGo1', 'task-milkshakeD'],\n",
       " 'sub-127': ['task-milkshakeD', 'task-GoNoGo1', 'task-GoNoGo2'],\n",
       " 'sub-094': ['task-milkshakeD', 'task-GoNoGo1', 'task-GoNoGo2'],\n",
       " 'sub-128': ['task-milkshakeD', 'task-GoNoGo2', 'task-GoNoGo1'],\n",
       " 'sub-095': ['task-GoNoGo2', 'task-GoNoGo1', 'task-milkshakeD'],\n",
       " 'sub-130': ['task-milkshakeD', 'task-GoNoGo1', 'task-GoNoGo2'],\n",
       " 'sub-096': ['task-milkshakeD', 'task-GoNoGo1', 'task-GoNoGo2'],\n",
       " 'sub-131': ['task-milkshakeD', 'task-GoNoGo1', 'task-GoNoGo2'],\n",
       " 'sub-097': ['task-GoNoGo2', 'task-GoNoGo1', 'task-milkshakeD'],\n",
       " 'sub-132': ['task-milkshakeD', 'task-GoNoGo2', 'task-GoNoGo1'],\n",
       " 'sub-098': ['task-milkshakeD', 'task-GoNoGo2', 'task-GoNoGo1'],\n",
       " 'sub-133': ['task-milkshakeD', 'task-GoNoGo2', 'task-GoNoGo1'],\n",
       " 'sub-099': ['task-milkshakeD', 'task-GoNoGo2', 'task-GoNoGo1'],\n",
       " 'sub-101': ['task-milkshakeD', 'task-GoNoGo2', 'task-GoNoGo1'],\n",
       " 'sub-136': ['task-GoNoGo1', 'task-GoNoGo2', 'task-milkshakeD'],\n",
       " 'sub-102': ['task-GoNoGo1', 'task-milkshakeD', 'task-GoNoGo2'],\n",
       " 'sub-137': ['task-GoNoGo2', 'task-milkshakeD', 'task-GoNoGo1'],\n",
       " 'sub-103': ['task-GoNoGo1', 'task-GoNoGo2', 'task-milkshakeD'],\n",
       " 'sub-138': ['task-milkshakeD', 'task-GoNoGo2', 'task-GoNoGo1'],\n",
       " 'sub-142': ['task-milkshakeD', 'task-GoNoGo1', 'task-GoNoGo2'],\n",
       " 'sub-104': ['task-milkshakeD', 'task-GoNoGo2', 'task-GoNoGo1'],\n",
       " 'sub-143': ['task-milkshakeD', 'task-GoNoGo2', 'task-GoNoGo1'],\n",
       " 'sub-105': ['task-GoNoGo2', 'task-milkshakeD', 'task-GoNoGo1'],\n",
       " 'sub-144': ['task-milkshakeD', 'task-GoNoGo1', 'task-GoNoGo2'],\n",
       " 'sub-106': ['task-milkshakeD', 'task-GoNoGo2', 'task-GoNoGo1'],\n",
       " 'sub-145': ['task-milkshakeD', 'task-GoNoGo2', 'task-GoNoGo1'],\n",
       " 'sub-107': ['task-milkshakeD', 'task-GoNoGo2', 'task-GoNoGo1'],\n",
       " 'sub-150': ['task-milkshakeD', 'task-GoNoGo2', 'task-GoNoGo1'],\n",
       " 'sub-108': ['task-milkshakeD', 'task-GoNoGo1', 'task-GoNoGo2'],\n",
       " 'sub-151': ['task-milkshakeD', 'task-GoNoGo1', 'task-GoNoGo2'],\n",
       " 'sub-109': ['task-GoNoGo2', 'task-GoNoGo1', 'task-milkshakeD'],\n",
       " 'sub-110': ['task-GoNoGo1', 'task-GoNoGo2', 'task-milkshakeD'],\n",
       " 'sub-152': ['task-GoNoGo2', 'task-GoNoGo1', 'task-milkshakeD'],\n",
       " 'sub-112': ['task-milkshakeD', 'task-GoNoGo2', 'task-GoNoGo1'],\n",
       " 'sub-153': ['task-GoNoGo2', 'task-GoNoGo1', 'task-milkshakeD'],\n",
       " 'sub-154': ['task-milkshakeD', 'task-GoNoGo2', 'task-GoNoGo1'],\n",
       " 'sub-113': ['task-GoNoGo1', 'task-GoNoGo2', 'task-milkshakeD']}"
      ]
     },
     "execution_count": 87,
     "metadata": {},
     "output_type": "execute_result"
    }
   ],
   "source": [
    "\n",
    "with open(file, \"r\") as f:\n",
    "    temp = []\n",
    "    for line in f:\n",
    "       \n",
    "        \n",
    "        filename = line.split('/')[8]\n",
    "        sub = filename.split('_')[0]\n",
    "        task = filename.split('_')[2]\n",
    "        if sub not in dict:\n",
    "            if 'task' in task:\n",
    "                dict[sub] = [task]\n",
    "            else:\n",
    "                pass\n",
    "        else:\n",
    "            if 'task' in task:\n",
    "                    dict[sub].append(task)\n",
    "            else:\n",
    "                pass\n",
    "            \n",
    "        \n",
    "    f.close()\n",
    "dict\n",
    "        "
   ]
  },
  {
   "cell_type": "code",
   "execution_count": 88,
   "metadata": {},
   "outputs": [
    {
     "data": {
      "text/html": [
       "<div>\n",
       "<style scoped>\n",
       "    .dataframe tbody tr th:only-of-type {\n",
       "        vertical-align: middle;\n",
       "    }\n",
       "\n",
       "    .dataframe tbody tr th {\n",
       "        vertical-align: top;\n",
       "    }\n",
       "\n",
       "    .dataframe thead th {\n",
       "        text-align: right;\n",
       "    }\n",
       "</style>\n",
       "<table border=\"1\" class=\"dataframe\">\n",
       "  <thead>\n",
       "    <tr style=\"text-align: right;\">\n",
       "      <th></th>\n",
       "      <th>0</th>\n",
       "      <th>1</th>\n",
       "      <th>2</th>\n",
       "    </tr>\n",
       "  </thead>\n",
       "  <tbody>\n",
       "    <tr>\n",
       "      <th>sub-114</th>\n",
       "      <td>task-milkshakeD</td>\n",
       "      <td>task-GoNoGo2</td>\n",
       "      <td>task-GoNoGo1</td>\n",
       "    </tr>\n",
       "    <tr>\n",
       "      <th>sub-078</th>\n",
       "      <td>task-milkshakeD</td>\n",
       "      <td>task-GoNoGo1</td>\n",
       "      <td>task-GoNoGo2</td>\n",
       "    </tr>\n",
       "    <tr>\n",
       "      <th>sub-079</th>\n",
       "      <td>task-GoNoGo2</td>\n",
       "      <td>task-milkshakeD</td>\n",
       "      <td>task-GoNoGo1</td>\n",
       "    </tr>\n",
       "    <tr>\n",
       "      <th>sub-115</th>\n",
       "      <td>task-milkshakeD</td>\n",
       "      <td>task-GoNoGo2</td>\n",
       "      <td>task-GoNoGo1</td>\n",
       "    </tr>\n",
       "    <tr>\n",
       "      <th>sub-081</th>\n",
       "      <td>task-milkshakeD</td>\n",
       "      <td>task-GoNoGo1</td>\n",
       "      <td>task-GoNoGo2</td>\n",
       "    </tr>\n",
       "  </tbody>\n",
       "</table>\n",
       "</div>"
      ],
      "text/plain": [
       "                       0                1             2\n",
       "sub-114  task-milkshakeD     task-GoNoGo2  task-GoNoGo1\n",
       "sub-078  task-milkshakeD     task-GoNoGo1  task-GoNoGo2\n",
       "sub-079     task-GoNoGo2  task-milkshakeD  task-GoNoGo1\n",
       "sub-115  task-milkshakeD     task-GoNoGo2  task-GoNoGo1\n",
       "sub-081  task-milkshakeD     task-GoNoGo1  task-GoNoGo2"
      ]
     },
     "execution_count": 88,
     "metadata": {},
     "output_type": "execute_result"
    }
   ],
   "source": [
    "df=pd.DataFrame.from_dict(dict,orient='index')\n",
    "\n",
    "df.head()"
   ]
  },
  {
   "cell_type": "code",
   "execution_count": 89,
   "metadata": {},
   "outputs": [
    {
     "data": {
      "text/html": [
       "<div>\n",
       "<style scoped>\n",
       "    .dataframe tbody tr th:only-of-type {\n",
       "        vertical-align: middle;\n",
       "    }\n",
       "\n",
       "    .dataframe tbody tr th {\n",
       "        vertical-align: top;\n",
       "    }\n",
       "\n",
       "    .dataframe thead th {\n",
       "        text-align: right;\n",
       "    }\n",
       "</style>\n",
       "<table border=\"1\" class=\"dataframe\">\n",
       "  <thead>\n",
       "    <tr style=\"text-align: right;\">\n",
       "      <th></th>\n",
       "      <th>0</th>\n",
       "      <th>1</th>\n",
       "      <th>2</th>\n",
       "    </tr>\n",
       "  </thead>\n",
       "  <tbody>\n",
       "    <tr>\n",
       "      <th>sub-078</th>\n",
       "      <td>task-milkshakeD</td>\n",
       "      <td>task-GoNoGo1</td>\n",
       "      <td>task-GoNoGo2</td>\n",
       "    </tr>\n",
       "    <tr>\n",
       "      <th>sub-079</th>\n",
       "      <td>task-GoNoGo2</td>\n",
       "      <td>task-milkshakeD</td>\n",
       "      <td>task-GoNoGo1</td>\n",
       "    </tr>\n",
       "    <tr>\n",
       "      <th>sub-081</th>\n",
       "      <td>task-milkshakeD</td>\n",
       "      <td>task-GoNoGo1</td>\n",
       "      <td>task-GoNoGo2</td>\n",
       "    </tr>\n",
       "    <tr>\n",
       "      <th>sub-082</th>\n",
       "      <td>task-milkshakeD</td>\n",
       "      <td>task-GoNoGo1</td>\n",
       "      <td>task-GoNoGo2</td>\n",
       "    </tr>\n",
       "    <tr>\n",
       "      <th>sub-083</th>\n",
       "      <td>task-milkshakeD</td>\n",
       "      <td>task-GoNoGo2</td>\n",
       "      <td>task-GoNoGo1</td>\n",
       "    </tr>\n",
       "  </tbody>\n",
       "</table>\n",
       "</div>"
      ],
      "text/plain": [
       "                       0                1             2\n",
       "sub-078  task-milkshakeD     task-GoNoGo1  task-GoNoGo2\n",
       "sub-079     task-GoNoGo2  task-milkshakeD  task-GoNoGo1\n",
       "sub-081  task-milkshakeD     task-GoNoGo1  task-GoNoGo2\n",
       "sub-082  task-milkshakeD     task-GoNoGo1  task-GoNoGo2\n",
       "sub-083  task-milkshakeD     task-GoNoGo2  task-GoNoGo1"
      ]
     },
     "execution_count": 89,
     "metadata": {},
     "output_type": "execute_result"
    }
   ],
   "source": [
    "df.sort_index(inplace=True)\n",
    "df.head()"
   ]
  },
  {
   "cell_type": "code",
   "execution_count": 90,
   "metadata": {},
   "outputs": [
    {
     "name": "stdout",
     "output_type": "stream",
     "text": [
      "wave2_TEST_2018-06-28-20_44_50_FAILED_FD.csv\n"
     ]
    }
   ],
   "source": [
    "fileout = file.split('.')[0]\n",
    "fileout = fileout + '_FAILED_FD.csv'\n",
    "print(fileout)\n",
    "df1.to_csv(fileout, encoding='utf-8')"
   ]
  }
 ],
 "metadata": {
  "kernelspec": {
   "display_name": "Python 3",
   "language": "python",
   "name": "python3"
  },
  "language_info": {
   "codemirror_mode": {
    "name": "ipython",
    "version": 3
   },
   "file_extension": ".py",
   "mimetype": "text/x-python",
   "name": "python",
   "nbconvert_exporter": "python",
   "pygments_lexer": "ipython3",
   "version": "3.6.5"
  }
 },
 "nbformat": 4,
 "nbformat_minor": 2
}

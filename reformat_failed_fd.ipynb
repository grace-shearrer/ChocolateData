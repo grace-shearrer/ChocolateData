{
 "cells": [
  {
   "cell_type": "code",
   "execution_count": 48,
   "metadata": {},
   "outputs": [
    {
     "name": "stdout",
     "output_type": "stream",
     "text": [
      "Enter txt file: wave2_TEST_2018-06-28-20_44_50.txt\n"
     ]
    }
   ],
   "source": [
    "import pandas as pd\n",
    "\n",
    "dict = {}\n",
    "#wave2_TEST_2018-06-28-20_44_50.txt\n",
    "file = input(\"Enter txt file: \")\n"
   ]
  },
  {
   "cell_type": "code",
   "execution_count": 50,
   "metadata": {},
   "outputs": [],
   "source": [
    "\n",
    "with open(file, \"r\") as f:\n",
    "    temp = []\n",
    "    for line in f:\n",
    "       \n",
    "        \n",
    "        filename = line.split('/')[8]\n",
    "        sub = filename.split('_')[0]\n",
    "        task = filename.split('_')[2]\n",
    "        if sub not in dict:\n",
    "            if 'task' in task:\n",
    "                dict[sub] = [task]\n",
    "            else:\n",
    "                pass\n",
    "        else:\n",
    "            if 'task' in task:\n",
    "                    dict[sub].append(task)\n",
    "            else:\n",
    "                pass\n",
    "            \n",
    "        \n",
    "    f.close()\n",
    "        "
   ]
  },
  {
   "cell_type": "code",
   "execution_count": 51,
   "metadata": {},
   "outputs": [],
   "source": [
    "df=pd.DataFrame.from_dict(dict)\n"
   ]
  },
  {
   "cell_type": "code",
   "execution_count": 52,
   "metadata": {},
   "outputs": [
    {
     "data": {
      "text/html": [
       "<div>\n",
       "<style scoped>\n",
       "    .dataframe tbody tr th:only-of-type {\n",
       "        vertical-align: middle;\n",
       "    }\n",
       "\n",
       "    .dataframe tbody tr th {\n",
       "        vertical-align: top;\n",
       "    }\n",
       "\n",
       "    .dataframe thead th {\n",
       "        text-align: right;\n",
       "    }\n",
       "</style>\n",
       "<table border=\"1\" class=\"dataframe\">\n",
       "  <thead>\n",
       "    <tr style=\"text-align: right;\">\n",
       "      <th></th>\n",
       "      <th>0</th>\n",
       "      <th>1</th>\n",
       "      <th>2</th>\n",
       "    </tr>\n",
       "  </thead>\n",
       "  <tbody>\n",
       "    <tr>\n",
       "      <th>sub-114</th>\n",
       "      <td>task-milkshakeD</td>\n",
       "      <td>task-GoNoGo2</td>\n",
       "      <td>task-GoNoGo1</td>\n",
       "    </tr>\n",
       "    <tr>\n",
       "      <th>sub-078</th>\n",
       "      <td>task-milkshakeD</td>\n",
       "      <td>task-GoNoGo1</td>\n",
       "      <td>task-GoNoGo2</td>\n",
       "    </tr>\n",
       "    <tr>\n",
       "      <th>sub-079</th>\n",
       "      <td>task-GoNoGo2</td>\n",
       "      <td>task-milkshakeD</td>\n",
       "      <td>task-GoNoGo1</td>\n",
       "    </tr>\n",
       "    <tr>\n",
       "      <th>sub-115</th>\n",
       "      <td>task-milkshakeD</td>\n",
       "      <td>task-GoNoGo2</td>\n",
       "      <td>task-GoNoGo1</td>\n",
       "    </tr>\n",
       "    <tr>\n",
       "      <th>sub-081</th>\n",
       "      <td>task-milkshakeD</td>\n",
       "      <td>task-GoNoGo1</td>\n",
       "      <td>task-GoNoGo2</td>\n",
       "    </tr>\n",
       "  </tbody>\n",
       "</table>\n",
       "</div>"
      ],
      "text/plain": [
       "                       0                1             2\n",
       "sub-114  task-milkshakeD     task-GoNoGo2  task-GoNoGo1\n",
       "sub-078  task-milkshakeD     task-GoNoGo1  task-GoNoGo2\n",
       "sub-079     task-GoNoGo2  task-milkshakeD  task-GoNoGo1\n",
       "sub-115  task-milkshakeD     task-GoNoGo2  task-GoNoGo1\n",
       "sub-081  task-milkshakeD     task-GoNoGo1  task-GoNoGo2"
      ]
     },
     "execution_count": 52,
     "metadata": {},
     "output_type": "execute_result"
    }
   ],
   "source": [
    "df1 = df.T\n",
    "df1.head()"
   ]
  },
  {
   "cell_type": "code",
   "execution_count": 53,
   "metadata": {},
   "outputs": [
    {
     "data": {
      "text/html": [
       "<div>\n",
       "<style scoped>\n",
       "    .dataframe tbody tr th:only-of-type {\n",
       "        vertical-align: middle;\n",
       "    }\n",
       "\n",
       "    .dataframe tbody tr th {\n",
       "        vertical-align: top;\n",
       "    }\n",
       "\n",
       "    .dataframe thead th {\n",
       "        text-align: right;\n",
       "    }\n",
       "</style>\n",
       "<table border=\"1\" class=\"dataframe\">\n",
       "  <thead>\n",
       "    <tr style=\"text-align: right;\">\n",
       "      <th></th>\n",
       "      <th>0</th>\n",
       "      <th>1</th>\n",
       "      <th>2</th>\n",
       "    </tr>\n",
       "  </thead>\n",
       "  <tbody>\n",
       "    <tr>\n",
       "      <th>sub-078</th>\n",
       "      <td>task-milkshakeD</td>\n",
       "      <td>task-GoNoGo1</td>\n",
       "      <td>task-GoNoGo2</td>\n",
       "    </tr>\n",
       "    <tr>\n",
       "      <th>sub-079</th>\n",
       "      <td>task-GoNoGo2</td>\n",
       "      <td>task-milkshakeD</td>\n",
       "      <td>task-GoNoGo1</td>\n",
       "    </tr>\n",
       "    <tr>\n",
       "      <th>sub-081</th>\n",
       "      <td>task-milkshakeD</td>\n",
       "      <td>task-GoNoGo1</td>\n",
       "      <td>task-GoNoGo2</td>\n",
       "    </tr>\n",
       "    <tr>\n",
       "      <th>sub-082</th>\n",
       "      <td>task-milkshakeD</td>\n",
       "      <td>task-GoNoGo1</td>\n",
       "      <td>task-GoNoGo2</td>\n",
       "    </tr>\n",
       "    <tr>\n",
       "      <th>sub-083</th>\n",
       "      <td>task-milkshakeD</td>\n",
       "      <td>task-GoNoGo2</td>\n",
       "      <td>task-GoNoGo1</td>\n",
       "    </tr>\n",
       "  </tbody>\n",
       "</table>\n",
       "</div>"
      ],
      "text/plain": [
       "                       0                1             2\n",
       "sub-078  task-milkshakeD     task-GoNoGo1  task-GoNoGo2\n",
       "sub-079     task-GoNoGo2  task-milkshakeD  task-GoNoGo1\n",
       "sub-081  task-milkshakeD     task-GoNoGo1  task-GoNoGo2\n",
       "sub-082  task-milkshakeD     task-GoNoGo1  task-GoNoGo2\n",
       "sub-083  task-milkshakeD     task-GoNoGo2  task-GoNoGo1"
      ]
     },
     "execution_count": 53,
     "metadata": {},
     "output_type": "execute_result"
    }
   ],
   "source": [
    "df1.sort_index(inplace=True)\n",
    "df1.head()"
   ]
  },
  {
   "cell_type": "code",
   "execution_count": 54,
   "metadata": {},
   "outputs": [
    {
     "name": "stdout",
     "output_type": "stream",
     "text": [
      "wave2_TEST_2018-06-28-20_44_50.csv\n"
     ]
    }
   ],
   "source": [
    "fileout = file.split('.')[0]\n",
    "fileout = fileout + '.csv'\n",
    "print(fileout)\n",
    "#df1.to_csv(fileout, encoding='utf-8')"
   ]
  },
  {
   "cell_type": "code",
   "execution_count": null,
   "metadata": {},
   "outputs": [],
   "source": []
  }
 ],
 "metadata": {
  "kernelspec": {
   "display_name": "Python 3",
   "language": "python",
   "name": "python3"
  },
  "language_info": {
   "codemirror_mode": {
    "name": "ipython",
    "version": 3
   },
   "file_extension": ".py",
   "mimetype": "text/x-python",
   "name": "python",
   "nbconvert_exporter": "python",
   "pygments_lexer": "ipython3",
   "version": "3.6.5"
  }
 },
 "nbformat": 4,
 "nbformat_minor": 2
}

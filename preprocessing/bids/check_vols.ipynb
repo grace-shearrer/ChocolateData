{
 "cells": [
  {
   "cell_type": "code",
   "execution_count": 1,
   "metadata": {},
   "outputs": [],
   "source": [
    "import glob\n",
    "from subprocess import check_output"
   ]
  },
  {
   "cell_type": "code",
   "execution_count": null,
   "metadata": {},
   "outputs": [],
   "source": [
    "func_files=sorted(glob.glob(\"/projects/niblab/data/eric_data/W1/milkshake/level1_grace_edit/cs*.feat/filtered_func_data.nii.gz\"))\n",
    "fileout=open(\"/projects/niblab/bids_projects/Experiments/ChocoData/error_files/w1_milkshake_bad_volumes.txt\", \"a\")\n",
    "for f in func_files:\n",
    "    vol = check_output(['fslnvols', f])\n",
    "    vol = int(vol.decode(\"utf-8\"))\n",
    "    if vol != 445:\n",
    "        print(\"BADDIE\")\n",
    "        for x in f.split(\"/\"):\n",
    "            if \".feat\" in x:\n",
    "                fileout.write(x +\"\\t\"+ str(vol) +\"\\n\")\n",
    "fileout.close()"
   ]
  }
 ],
 "metadata": {
  "kernelspec": {
   "display_name": "Python 3",
   "language": "python",
   "name": "python3"
  },
  "language_info": {
   "codemirror_mode": {
    "name": "ipython",
    "version": 3
   },
   "file_extension": ".py",
   "mimetype": "text/x-python",
   "name": "python",
   "nbconvert_exporter": "python",
   "pygments_lexer": "ipython3",
   "version": "3.6.7"
  }
 },
 "nbformat": 4,
 "nbformat_minor": 2
}

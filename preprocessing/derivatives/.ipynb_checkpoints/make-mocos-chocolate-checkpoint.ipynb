{
 "cells": [
  {
   "cell_type": "code",
   "execution_count": null,
   "metadata": {},
   "outputs": [],
   "source": [
    "import pandas as pd\n",
    "import os\n",
    "import glob\n"
   ]
  },
  {
   "cell_type": "code",
   "execution_count": null,
   "metadata": {},
   "outputs": [],
   "source": [
    "def get_subjects():\n",
    "    global subjects\n",
    "    global basedir\n",
    "    global sess_ID\n",
    "    subjects = []\n",
    "    # make script argument?\n",
    "    #basedir=input(\"Enter the main directory: \")\n",
    "    basedir='/projects/niblab/bids_projects/Experiments/ChocoData'\n",
    "    ## add this as input variable\n",
    "    multi_sess= True\n",
    "    \n",
    "    sess_ID = \"ses-4\"\n",
    "    if multi_sess == True:\n",
    "        fmriprep_dir=os.path.join(basedir, 'fmriprep')\n",
    "    else:\n",
    "        fmriprep_dir=os.path.join(basedir, 'fmriprep')\n",
    "    subjects=glob.glob(os.path.join(fmriprep_dir, \"sub-*\"))\n",
    "    #print(\"SUBJECTS: \", subjects)"
   ]
  },
  {
   "cell_type": "code",
   "execution_count": null,
   "metadata": {},
   "outputs": [],
   "source": [
    "def write_files(task, moco_df, outputdir, sub):\n",
    "    # iterate through the motion correction data frame by columns,\n",
    "    # writing individual columns to individual files\n",
    "    for col in moco_df.columns:\n",
    "        filename = \"%s_%s_%s_%s.txt\"%(sub, sess_ID, task, col)\n",
    "        print(\"WRITING TO FILE >>>>>>>>>>>>>>>>>>>>>>> %s\"%filename)\n",
    "        output_path=os.path.join(outputdir, filename)\n",
    "        print(\"Writing to file, \", output_path)\n",
    "        moco_df[col].to_csv(output_path, header=False, index=False)"
   ]
  },
  {
   "cell_type": "code",
   "execution_count": null,
   "metadata": {},
   "outputs": [],
   "source": [
    "\n",
    "def get_data():\n",
    "    errors = []\n",
    "    for sub_path in subjects:\n",
    "        try:\n",
    "            sub = sub_path.split(\"/\")[-1]\n",
    "            print(\"--------------> GETTING MOCOS FOR SUBJECT: \", sub)\n",
    "            filepath=os.path.join(sub_path, sess_ID,'fmriprep', sub, sess_ID,'func')\n",
    "            outputdir=os.path.join(basedir, 'derivatives', sub, sess_ID, 'func', 'motion_assessment')\n",
    "            outputdir=os.path.join(outputdir, 'motion_parameters')\n",
    "            print(\">>>>>>>FILEPATH: %s >>>>>>>>OUTPUT DIRECTORY: %s\"%(filepath, outputdir))\n",
    "            os.chdir(filepath)\n",
    "            for file in glob.glob(\"*confounds.tsv\"):\n",
    "                print(\"---------------------------------------------> GRABBING NEW FILE:\")\n",
    "                print(\"FILE: \", file)\n",
    "                df = pd.read_table(file)\n",
    "                moco_df=df[['X', 'Y', 'Z', 'RotX', 'RotY', 'RotZ']]\n",
    "                moco_df.columns = ['moco0', 'moco1', 'moco2', 'moco3', 'moco4', 'moco5']\n",
    "                print(\"DATAFRAME: \\n \", moco_df.head())\n",
    "                name=file.split('_')\n",
    "                #print(\"NAME: \", name)\n",
    "                for word in name:\n",
    "                    if 'task' in word:\n",
    "                        task=word\n",
    "                        print(\"TASK: \", task)\n",
    "                        write_files(task, moco_df, outputdir,sub)\n",
    "        except FileNotFoundError as not_found:\n",
    "            print(\"********************FILE NOT FOUND: \", not_found.filename)\n",
    "            if sub not in errors:\n",
    "                errors.append(sub)\n",
    "        #print(\"ERRORS \", errors)\n",
    "        #print(\"ERRORS SORTED \", sorted(errors))\n",
    "        errors = sorted(errors)\n",
    "    for err in errors:\n",
    "            #print(\"ERROR\" + err)\n",
    "        file = basedir+\"/error_files_ses-1.txt\"\n",
    "        with open(file, 'a') as f:\n",
    "            f.write(\"--------------------------------> FILE NOT FOUND FOR SUBJECT: \" + err  + \"\\n\")\n",
    "            f.close()"
   ]
  },
  {
   "cell_type": "code",
   "execution_count": null,
   "metadata": {},
   "outputs": [],
   "source": [
    "def main():\n",
    "    get_subjects()\n",
    "    get_data()\n",
    "main()"
   ]
  }
 ],
 "metadata": {
  "kernelspec": {
   "display_name": "Python 3",
   "language": "python",
   "name": "python3"
  },
  "language_info": {
   "codemirror_mode": {
    "name": "ipython",
    "version": 3
   },
   "file_extension": ".py",
   "mimetype": "text/x-python",
   "name": "python",
   "nbconvert_exporter": "python",
   "pygments_lexer": "ipython3",
   "version": "3.6.7"
  }
 },
 "nbformat": 4,
 "nbformat_minor": 2
}

{
 "cells": [
  {
   "cell_type": "markdown",
   "metadata": {},
   "source": [
    "# Chocolate Milkshake decoding with SVM and ANOVA\n",
    "## LF_HS vs. h2O  \n",
    "### wave 1 partial\n"
   ]
  },
  {
   "cell_type": "markdown",
   "metadata": {},
   "source": [
    "Load packages and data and select specific label"
   ]
  },
  {
   "cell_type": "code",
   "execution_count": null,
   "metadata": {},
   "outputs": [],
   "source": [
    "#this imports all the commands needed for the script to work#\n",
    "import os\n",
    "import numpy as np\n",
    "import nilearn\n",
    "import glob\n",
    "#import matplotlib\n",
    "import nibabel as nib\n",
    "import pandas as pd \n",
    "from nilearn.input_data import NiftiMasker \n",
    "import numpy as np\n",
    "np.seterr(divide='ignore', invalid='ignore')\n",
    "import warnings\n",
    "warnings.filterwarnings(\"ignore\")\n",
    "import matplotlib\n",
    "matplotlib.use('Agg')\n",
    "\n",
    "from sklearn.model_selection import cross_val_score\n",
    "\n",
    "\n",
    "#image mask\n",
    "imag_mask='/projects/niblab/bids_projects/Experiments/ChocoData/images/bin_mask.nii.gz'\n",
    "\n",
    "\n",
    "\n",
    "#our behavioral csv file \n",
    "stim = '/projects/niblab/bids_projects/Experiments/ChocoData/behavorial_data/w1_milkshake_partial.csv'\n",
    "\n",
    "#our dataset concatenated image \n",
    "dataset='/projects/niblab/bids_projects/Experiments/ChocoData/images/w1_milkshake_partial.nii.gz'\n",
    "#load behavioral data into a pandas df\n",
    "behavioral = pd.read_csv(stim, sep=\"\\t\")\n",
    "#grab conditional labels \n",
    "y = behavioral[\"Label\"]\n",
    "\n",
    "\n",
    "#restrict data to our target analysis \n",
    "condition_mask = behavioral[\"Label\"].isin(['HF_LS_receipt', \"h20_receipt\"])\n",
    "y = y[condition_mask]\n",
    "#confirm we have the # of condtions needed\n",
    "print(y.unique())"
   ]
  },
  {
   "cell_type": "code",
   "execution_count": null,
   "metadata": {},
   "outputs": [],
   "source": [
    "\n",
    "\n",
    "masker = NiftiMasker(mask_img=imag_mask,\n",
    "                     standardize=True, memory=\"nilearn_cache\", memory_level=1)\n",
    "X = masker.fit_transform(dataset)\n",
    "# Apply our condition_mask\n",
    "X = X[condition_mask]\n",
    "\n",
    "\n"
   ]
  },
  {
   "cell_type": "code",
   "execution_count": null,
   "metadata": {},
   "outputs": [],
   "source": [
    "\n",
    "from sklearn.svm import SVC\n",
    "svc = SVC(kernel='linear')\n",
    "\n",
    "from sklearn.feature_selection import SelectKBest, f_classif\n",
    "feature_selection = SelectKBest(f_classif, k=500)\n",
    "\n",
    "# We have our classifier (SVC), our feature selection (SelectKBest), and now,\n",
    "# we can plug them together in a *pipeline* that performs the two operations\n",
    "# successively:\n",
    "from sklearn.pipeline import Pipeline\n",
    "\n",
    "\n",
    "anova_svc = Pipeline([('anova', feature_selection), ('svc', svc)])\n",
    "anova_svc.fit(X,y)\n",
    "y_pred = anova_svc.predict(X)"
   ]
  },
  {
   "cell_type": "code",
   "execution_count": null,
   "metadata": {},
   "outputs": [],
   "source": [
    "\n",
    "# Here we run gridsearch\n",
    "from sklearn.model_selection import GridSearchCV\n",
    "# We are going to tune the parameter 'k' of the step called 'anova' in\n",
    "# the pipeline. Thus we need to address it as 'anova__k'.\n",
    "\n",
    "# Note that GridSearchCV takes an n_jobs argument that can make it go\n",
    "# much faster'\n",
    "k_range = [50, 500, 5000]\n",
    "grid = GridSearchCV(anova_svc, param_grid={'anova__k': k_range}, verbose=1, n_jobs=1, cv=5)\n",
    "nested_cv_scores = cross_val_score(grid, X, y, cv=5)\n",
    "\n",
    "NEST_SCORE = np.mean(nested_cv_scores)\n",
    "print(\"Nested CV score: %.4f\" %"
   ]
  },
  {
   "cell_type": "markdown",
   "metadata": {},
   "source": [
    "Fitting 5 folds for each of 7 candidates, totalling 35 fits  \n",
    "[Parallel(n_jobs=1)]: Using backend SequentialBackend with 1 concurrent workers.  \n",
    " [Parallel(n_jobs=1)]: Done  35 out of  35 | elapsed: 25.1min finished  \n",
    "Fitting 5 folds for each of 7 candidates, totalling 35 fits  \n",
    "[Parallel(n_jobs=1)]: Using backend SequentialBackend with 1 concurrent workers.  \n",
    "[Parallel(n_jobs=1)]: Done  35 out of  35 | elapsed: 24.3min finished  \n",
    "Fitting 5 folds for each of 7 candidates, totalling 35 fits  \n",
    "[Parallel(n_jobs=1)]: Using backend SequentialBackend with 1 concurrent workers.  \n",
    "[Parallel(n_jobs=1)]: Done  35 out of  35 | elapsed: 24.9min finished  \n",
    "Fitting 5 folds for each of 7 candidates, totalling 35 fits  \n",
    "[Parallel(n_jobs=1)]: Using backend SequentialBackend with 1 concurrent workers.  \n",
    "   [Parallel(n_jobs=1)]: Done  35 out of  35 | elapsed: 23.4min finished  \n",
    "Fitting 5 folds for each of 7 candidates, totalling 35 fits  \n",
    "[Parallel(n_jobs=1)]: Using backend SequentialBackend with 1 concurrent workers.  \n",
    "  [Parallel(n_jobs=1)]: Done  35 out of  35 | elapsed: 24.1min finished  \n",
    "Nested CV score: 0.4999  "
   ]
  },
  {
   "cell_type": "markdown",
   "metadata": {},
   "source": [
    "### Visualize Results"
   ]
  },
  {
   "cell_type": "code",
   "execution_count": null,
   "metadata": {},
   "outputs": [],
   "source": [
    "# Here is the image \n",
    "coef = svc.coef_\n",
    "# reverse feature selection\n",
    "coef = feature_selection.inverse_transform(coef)\n",
    "# reverse masking\n",
    "weight_img = masker.inverse_transform(coef)\n",
    "\n",
    "\n",
    "# Use the mean image as a background to avoid relying on anatomical data\n",
    "from nilearn import image\n",
    "mean_img = image.mean_img(dataset)\n",
    "mean_img.to_filename('/projects/niblab/bids_projects/Experiments/ChocoData/derivatives/code/decoding/LF_HS_vs_h2O/images/w1/w1_partial_mean_nimask.nii')\n",
    "\n",
    "# Create the figure\n",
    "from nilearn.plotting import plot_stat_map, show\n",
    "display = plot_stat_map(weight_img, mean_img, title='SVM weights LF_HS vs h2O w1')\n",
    "display.savefig('/projects/niblab/bids_projects/Experiments/ChocoData/derivatives/code/decoding/LF_HS_vs_h2O/images/w1/w1_partial_SVM_nimask.png')\n",
    "# Saving the results as a Nifti file may also be important\n",
    "weight_img.to_filename('/projects/niblab/bids_projects/Experiments/ChocoData/derivatives/code/decoding/LF_HS_vs_h2O/images/w1/w1_partial_SVM_nimask.nii')\n",
    "\n"
   ]
  },
  {
   "cell_type": "markdown",
   "metadata": {},
   "source": [
    "\n",
    "![OUTPUT IMAGE](/images/w1_partial_SVM_nimask.png \"SVM Weights\") "
   ]
  }
 ],
 "metadata": {
  "kernelspec": {
   "display_name": "Python 3",
   "language": "python",
   "name": "python3"
  },
  "language_info": {
   "codemirror_mode": {
    "name": "ipython",
    "version": 3
   },
   "file_extension": ".py",
   "mimetype": "text/x-python",
   "name": "python",
   "nbconvert_exporter": "python",
   "pygments_lexer": "ipython3",
   "version": "3.6.7"
  }
 },
 "nbformat": 4,
 "nbformat_minor": 2
}

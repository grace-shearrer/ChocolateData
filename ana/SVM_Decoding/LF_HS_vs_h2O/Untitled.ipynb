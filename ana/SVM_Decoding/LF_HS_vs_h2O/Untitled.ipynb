{
 "cells": [
  {
   "cell_type": "markdown",
   "metadata": {},
   "source": [
    "# Chocolate Milkshake decoding with SVM and ANOVA\n",
    "## LF_HS vs. h2O  \n",
    "### wave 1 partial\n"
   ]
  },
  {
   "cell_type": "markdown",
   "metadata": {},
   "source": [
    "Fitting 5 folds for each of 7 candidates, totalling 35 fits  \n",
    "[Parallel(n_jobs=1)]: Using backend SequentialBackend with 1 concurrent workers.  \n",
    " [Parallel(n_jobs=1)]: Done  35 out of  35 | elapsed: 25.1min finished  \n",
    "Fitting 5 folds for each of 7 candidates, totalling 35 fits  \n",
    "[Parallel(n_jobs=1)]: Using backend SequentialBackend with 1 concurrent workers.  \n",
    "[Parallel(n_jobs=1)]: Done  35 out of  35 | elapsed: 24.3min finished  \n",
    "Fitting 5 folds for each of 7 candidates, totalling 35 fits  \n",
    "[Parallel(n_jobs=1)]: Using backend SequentialBackend with 1 concurrent workers.  \n",
    "[Parallel(n_jobs=1)]: Done  35 out of  35 | elapsed: 24.9min finished  \n",
    "Fitting 5 folds for each of 7 candidates, totalling 35 fits  \n",
    "[Parallel(n_jobs=1)]: Using backend SequentialBackend with 1 concurrent workers.  \n",
    "   [Parallel(n_jobs=1)]: Done  35 out of  35 | elapsed: 23.4min finished  \n",
    "Fitting 5 folds for each of 7 candidates, totalling 35 fits  \n",
    "[Parallel(n_jobs=1)]: Using backend SequentialBackend with 1 concurrent workers.  \n",
    "  [Parallel(n_jobs=1)]: Done  35 out of  35 | elapsed: 24.1min finished  \n",
    "Nested CV score: 0.4999  "
   ]
  }
 ],
 "metadata": {
  "kernelspec": {
   "display_name": "Python 3",
   "language": "python",
   "name": "python3"
  },
  "language_info": {
   "codemirror_mode": {
    "name": "ipython",
    "version": 3
   },
   "file_extension": ".py",
   "mimetype": "text/x-python",
   "name": "python",
   "nbconvert_exporter": "python",
   "pygments_lexer": "ipython3",
   "version": "3.6.7"
  }
 },
 "nbformat": 4,
 "nbformat_minor": 2
}

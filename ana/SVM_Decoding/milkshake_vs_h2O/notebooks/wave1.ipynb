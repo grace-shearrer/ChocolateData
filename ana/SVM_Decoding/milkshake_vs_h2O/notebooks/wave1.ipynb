{
 "cells": [
  {
   "cell_type": "markdown",
   "metadata": {},
   "source": [
    "# Decoding on Milkshake vs. H2O  \n",
    "## Wave 1"
   ]
  },
  {
   "cell_type": "markdown",
   "metadata": {},
   "source": [
    " ### Nested CV score: 0.8016\n",
    "![BRAIN_IMG](images/img.png)"
   ]
  },
  {
   "cell_type": "markdown",
   "metadata": {},
   "source": [
    "## Viewing the deocded image for Milkshake vs. H2O in FSL  \n",
    "#### Opening on RENCI:  \n",
    "```\n",
    "cd /projects/niblab/bids_projects/Experiments/ChocoData/derivatives/decoding/milkshake_vs_h2O/images \n",
    "fsleyes w1_SVM_nimask.nii\n",
    "```"
   ]
  },
  {
   "cell_type": "markdown",
   "metadata": {},
   "source": [
    "![A](images/fsl1.png)"
   ]
  },
  {
   "cell_type": "code",
   "execution_count": null,
   "metadata": {},
   "outputs": [],
   "source": []
  }
 ],
 "metadata": {
  "kernelspec": {
   "display_name": "Python 3",
   "language": "python",
   "name": "python3"
  },
  "language_info": {
   "codemirror_mode": {
    "name": "ipython",
    "version": 3
   },
   "file_extension": ".py",
   "mimetype": "text/x-python",
   "name": "python",
   "nbconvert_exporter": "python",
   "pygments_lexer": "ipython3",
   "version": "3.6.7"
  }
 },
 "nbformat": 4,
 "nbformat_minor": 2
}

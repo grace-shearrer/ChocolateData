{
 "cells": [
  {
   "cell_type": "markdown",
   "metadata": {},
   "source": [
    "# QA Feat1 - Chocolate "
   ]
  },
  {
   "cell_type": "code",
   "execution_count": null,
   "metadata": {},
   "outputs": [],
   "source": [
    "import glob, os, subprocess\n",
    "import pandas as pd"
   ]
  },
  {
   "cell_type": "code",
   "execution_count": null,
   "metadata": {},
   "outputs": [],
   "source": [
    "def make_dict(sub):\n",
    "    qa_dict[sub] = {\n",
    "        \"TASKCHECK\" : None,\n",
    "        \"TASKCOUNT\" : 0,\n",
    "        \"ERRORLOGS\" : [],\n",
    "    }"
   ]
  },
  {
   "cell_type": "markdown",
   "metadata": {},
   "source": [
    "Check z-stats should be present  \n",
    "Check errors in logs   \n",
    "Look through logs   "
   ]
  },
  {
   "cell_type": "code",
   "execution_count": null,
   "metadata": {},
   "outputs": [],
   "source": []
  },
  {
   "cell_type": "code",
   "execution_count": null,
   "metadata": {},
   "outputs": [],
   "source": [
    "import subprocess\n",
    "\n",
    "QA_dict = {}\n",
    "sessions = [\"ses-1\", \"ses-2\", \"ses-3\", \"ses-4\"]\n",
    "deriv_path='/projects/niblab/bids_projects/Experiments/ChocoData/derivatives'\n",
    "SUBJECTS = sorted(glob.glob(os.path.join(deriv_path, \"sub-*\")))\n",
    "\n",
    "# Check for error in report log\n",
    "errors = ['error', 'ERROR', 'Error']\n",
    "for ses in sessions:\n",
    "    for error in errors:\n",
    "        error_cmd = \"grep '%s' %s/sub-*/%s/func/Analysis/feat1/task*/report_log.html\"%(error, deriv_path, ses)\n",
    "        #print(error_cmd)\n",
    "        try:\n",
    "            output = subprocess.check_output(error_cmd, shell=True)\n",
    "            # IF ERROR OUTPUT WRITE TO FILE ....\n",
    "        # IF NOTHING FOUND EXCEPT ERROR AND PASS\n",
    "        except subprocess.CalledProcessError as e:\n",
    "            if e.returncode > 1:\n",
    "                raise\n",
    "    # Check for existence of zstats \n",
    "    # Expecting 2 milkshake runs for each subject - therefore 2 zstats per subject\n",
    "    subs = sorted(glob.glob(\"%s/sub-*\"%(deriv_path)))\n",
    "    for sub_dir in subs:\n",
    "        print(sub_dir)\n",
    "        sub_id = sub_dir.split(\"/\")[-1]\n",
    "        if os.path.exists(\"%s/%s\"%(sub_dir, ses)):\n",
    "            zstats = glob.glob(\"%s/%s/func/Analysis/feat1/task*/stats/zstat1.nii.gz\"%(sub_dir, ses))\n",
    "            if len(zstats) != 2:\n",
    "                print(subject, \" | \", ses)\n",
    "                \n",
    "    for zstat in zstats:\n",
    "        subject = zstat.split(\"/\")[-8]\n",
    "        milk_id = zstat.split(\"/\")[-3].split(\".\")[0].split(\"-\")[1]\n",
    "        print(subject, milk_id)\n",
    "    # -count \n"
   ]
  },
  {
   "cell_type": "markdown",
   "metadata": {},
   "source": [
    "#### Make HTML file"
   ]
  },
  {
   "cell_type": "code",
   "execution_count": null,
   "metadata": {},
   "outputs": [],
   "source": [
    "# Code below extended from Jeannette Mumford Brain stats - \n",
    "import os\n",
    "import glob\n",
    "import pdfkit\n",
    "# We will start with the registration png files\n",
    "outfile = \"/projects/niblab/bids_projects/Experiments/ChocoData/derivatives/feat1_ana.html\"\n",
    "#os.system(\"rm %s\"%(outfile))\n",
    " \n",
    "sessions = [\"ses-1\", \"ses-2\", \"ses-3\", \"ses-4\"]\n",
    "\n",
    "feat_dict = {}\n",
    "#f = open(outfile, \"w\")\n",
    "for ses in sessions:\n",
    "    all_feats = glob.glob('/projects/niblab/bids_projects/Experiments/ChocoData/derivatives/sub-*/ses-1/func/Analysis/feat1/task*')\n",
    "    if ses not in feat_dict:\n",
    "        feat_dict[ses] = { }\n",
    "    \n",
    "    for file in list(all_feats):\n",
    "        subject = file.split(\"/\")[7]\n",
    "        milk_id = file.split(\"/\")[-1].split(\".\")[0].split(\"-\")[1]\n",
    "        filename = \"%s_%s\"%(subject, milk_id)\n",
    "        if subject not in feat_dict[ses]:\n",
    "            feat_dict[ses][subject] = {}\n",
    "\n",
    "        design_img = \"%s/design.png\"%(file)\n",
    "        design_cov_img = \"%s/design_cov.png\"%(file)\n",
    "        func2highres_img =  \"%s/reg/example_func2highres.png\"%(file)\n",
    "        func2standard_img = \"%s/reg/example_func2standard.png\"%(file)\n",
    "        highres2standard_img = \"%s/reg/highres2standard.png\"%(file)\n",
    "        if milk_id not in feat_dict[ses][subject]:\n",
    "            feat_dict[ses][subject][milk_id] =  {\n",
    "                \"IMG1\": design_img,\n",
    "                \"IMG2\": design_cov_img,\n",
    "                \"IMG3\": func2highres_img,\n",
    "                \"IMG4\": func2standard_img,\n",
    "                \"IMG5\": highres2standard_img }  \n",
    "            \n",
    "df = pd.DataFrame.from_dict({(i,j): feat_dict[i][j] \n",
    "                           for i in feat_dict.keys() \n",
    "                           for j in feat_dict[i].keys()},\n",
    "                       orient='index')\n",
    "    #os.system(\"cp %s/design.png files/%s_design.png\"%(file, filename ))\n",
    "    #os.system(\"cp %s/design_cov.png files/%s_design.png\"%(file, filename))\n",
    "    #os.system(\"cp %s/reg/example_func2highres.png files/%s_design.png\"%(file, filename))\n",
    "    #os.system(\"cp %s/reg/example_func2standard.png files/%s_design.png\"%(file, filename))\n",
    "    #os.system(\"cp %s/reg/highres2standard.png files/%s_design.png\"%(file, filename))\n",
    "    \n",
    "\n",
    "    ## Building a PDF \n",
    "    # Create a Document \n",
    "    const PDFDocument = req\n",
    "    const file_bio = \"Subject: %s | Run: %s  \\n\"%(subject, milk_id)\n",
    "    \n",
    "    \n",
    "f.close()"
   ]
  },
  {
   "cell_type": "markdown",
   "metadata": {},
   "source": [
    "Regressor looks like waant.  \n",
    "Flat regressor - mispecified the TR length/something wrong with offset file \n",
    "Colinearity pics:  \n",
    "topleft check for pairwise colinearity  \n",
    "Registration summary:  \n",
    "Top : bold(brain) outline(MNI) | Bottom : vice versa .   \n",
    "Bold to subject structural, subject structural to MNI template  \n"
   ]
  },
  {
   "cell_type": "markdown",
   "metadata": {},
   "source": [
    "Reference:\n",
    "- https://www.dropbox.com/s/rzcqb3nwvc01o1e/4_QA_all_lev1s.py?dl=0\n",
    "- https://www.youtube.com/watch?v=kW1xgGs4NUU&list=PLB2iAtgpI4YHlH4sno3i3CUjCofI38a-3&index=13"
   ]
  },
  {
   "cell_type": "code",
   "execution_count": null,
   "metadata": {},
   "outputs": [],
   "source": []
  }
 ],
 "metadata": {
  "kernelspec": {
   "display_name": "Python 3",
   "language": "python",
   "name": "python3"
  },
  "language_info": {
   "codemirror_mode": {
    "name": "ipython",
    "version": 3
   },
   "file_extension": ".py",
   "mimetype": "text/x-python",
   "name": "python",
   "nbconvert_exporter": "python",
   "pygments_lexer": "ipython3",
   "version": "3.6.7"
  }
 },
 "nbformat": 4,
 "nbformat_minor": 2
}

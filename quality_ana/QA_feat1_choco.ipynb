{
 "cells": [
  {
   "cell_type": "markdown",
   "metadata": {},
   "source": [
    "# QA Feat1 - Chocolate "
   ]
  },
  {
   "cell_type": "code",
   "execution_count": 1,
   "metadata": {},
   "outputs": [],
   "source": [
    "import glob, os, subprocess\n",
    "import pandas as pd"
   ]
  },
  {
   "cell_type": "code",
   "execution_count": null,
   "metadata": {},
   "outputs": [],
   "source": [
    "def make_dict(sub):\n",
    "    qa_dict[sub] = {\n",
    "        \"TASKCHECK\" : None,\n",
    "        \"TASKCOUNT\" : 0,\n",
    "        \"ERRORLOGS\" : [],\n",
    "    }"
   ]
  },
  {
   "cell_type": "code",
   "execution_count": null,
   "metadata": {},
   "outputs": [],
   "source": [
    "QA_dict = {}\n",
    "deriv_path='/projects/niblab/bids_projects/Experiments/ChocoData/derivatives'\n",
    "SUBJECTS = sorted(glob.glob(os.path.join(deriv_path, \"sub-*\")))\n",
    "error_cmd = \"grep 'ERROR' %s/sub-*/ses-2/func/Analysis/feat1/task*/report_log.html\""
   ]
  }
 ],
 "metadata": {
  "kernelspec": {
   "display_name": "Python 3",
   "language": "python",
   "name": "python3"
  },
  "language_info": {
   "codemirror_mode": {
    "name": "ipython",
    "version": 3
   },
   "file_extension": ".py",
   "mimetype": "text/x-python",
   "name": "python",
   "nbconvert_exporter": "python",
   "pygments_lexer": "ipython3",
   "version": "3.6.5"
  }
 },
 "nbformat": 4,
 "nbformat_minor": 2
}

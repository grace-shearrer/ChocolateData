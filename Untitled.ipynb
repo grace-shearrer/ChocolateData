{
 "cells": [
  {
   "cell_type": "code",
   "execution_count": 30,
   "metadata": {},
   "outputs": [],
   "source": [
    "import pandas as pd\n",
    "\n",
    "dict = {}"
   ]
  },
  {
   "cell_type": "code",
   "execution_count": 33,
   "metadata": {},
   "outputs": [],
   "source": [
    "\n",
    "with open(\"wave2_TEST_2018-06-28-20_44_50.txt\", \"r\") as f:\n",
    "    temp = []\n",
    "    for line in f:\n",
    "        \n",
    "        filename = line.split('/')[8]\n",
    "        sub = filename.split('_')[0]\n",
    "        task = filename.split('_')[2]\n",
    "        if sub not in dict:\n",
    "            dict[sub] = [task]\n",
    "        else:\n",
    "            dict[sub].append(task)\n",
    "            \n",
    "        \n",
    "    f.close()\n",
    "        "
   ]
  },
  {
   "cell_type": "code",
   "execution_count": 34,
   "metadata": {},
   "outputs": [
    {
     "data": {
      "text/plain": [
       "{'sub-114': ['task-milkshakeD', 'task-GoNoGo2', 'task-GoNoGo1'],\n",
       " 'sub-078': ['task-milkshakeD', 'task-GoNoGo1', 'task-GoNoGo2'],\n",
       " 'sub-079': ['task-GoNoGo2', 'task-milkshakeD', 'task-GoNoGo1'],\n",
       " 'sub-115': ['task-milkshakeD', 'task-GoNoGo2', 'task-GoNoGo1'],\n",
       " 'sub-081': ['task-milkshakeD', 'task-GoNoGo1', 'task-GoNoGo2'],\n",
       " 'sub-116': ['task-GoNoGo2', 'task-milkshakeD', 'task-GoNoGo1'],\n",
       " 'sub-082': ['task-milkshakeD', 'task-GoNoGo1', 'task-GoNoGo2'],\n",
       " 'sub-117': ['task-milkshakeD', 'task-GoNoGo2', 'task-GoNoGo1'],\n",
       " 'sub-118': ['task-milkshakeD',\n",
       "  'task-GoNoGo2',\n",
       "  'task-GoNoGo1',\n",
       "  'ses-2',\n",
       "  'ses-2',\n",
       "  'ses-2'],\n",
       " 'sub-083': ['task-milkshakeD', 'task-GoNoGo2', 'task-GoNoGo1'],\n",
       " 'sub-084': ['task-milkshakeD', 'task-GoNoGo2', 'task-GoNoGo1'],\n",
       " 'sub-119': ['task-milkshakeD', 'task-GoNoGo1', 'task-GoNoGo2'],\n",
       " 'sub-085': ['task-milkshakeD', 'task-GoNoGo2', 'task-GoNoGo1'],\n",
       " 'sub-120': ['task-GoNoGo1', 'task-GoNoGo2', 'task-milkshakeD'],\n",
       " 'sub-088': ['task-milkshakeD', 'task-GoNoGo1', 'task-GoNoGo2'],\n",
       " 'sub-089': ['task-milkshakeD', 'task-GoNoGo2', 'task-GoNoGo1'],\n",
       " 'sub-121': ['task-milkshakeD', 'task-GoNoGo1', 'task-GoNoGo2'],\n",
       " 'sub-122': ['task-milkshakeD', 'task-GoNoGo2', 'task-GoNoGo1'],\n",
       " 'sub-090': ['task-milkshakeD', 'task-GoNoGo1', 'task-GoNoGo2'],\n",
       " 'sub-091': ['task-milkshakeD', 'task-GoNoGo2', 'task-GoNoGo1'],\n",
       " 'sub-123': ['task-milkshakeD', 'task-GoNoGo2', 'task-GoNoGo1'],\n",
       " 'sub-092': ['task-GoNoGo2', 'task-GoNoGo1', 'task-milkshakeD'],\n",
       " 'sub-125': ['task-milkshakeD', 'task-GoNoGo2', 'task-GoNoGo1'],\n",
       " 'sub-126': ['task-milkshakeD', 'task-GoNoGo1', 'task-GoNoGo2'],\n",
       " 'sub-093': ['task-GoNoGo2', 'task-GoNoGo1', 'task-milkshakeD'],\n",
       " 'sub-127': ['task-milkshakeD', 'task-GoNoGo1', 'task-GoNoGo2'],\n",
       " 'sub-094': ['task-milkshakeD', 'task-GoNoGo1', 'task-GoNoGo2'],\n",
       " 'sub-128': ['task-milkshakeD', 'task-GoNoGo2', 'task-GoNoGo1'],\n",
       " 'sub-095': ['task-GoNoGo2', 'task-GoNoGo1', 'task-milkshakeD'],\n",
       " 'sub-130': ['task-milkshakeD', 'task-GoNoGo1', 'task-GoNoGo2'],\n",
       " 'sub-096': ['task-milkshakeD', 'task-GoNoGo1', 'task-GoNoGo2'],\n",
       " 'sub-131': ['task-milkshakeD', 'task-GoNoGo1', 'task-GoNoGo2'],\n",
       " 'sub-097': ['task-GoNoGo2', 'task-GoNoGo1', 'task-milkshakeD'],\n",
       " 'sub-132': ['task-milkshakeD', 'task-GoNoGo2', 'task-GoNoGo1'],\n",
       " 'sub-098': ['task-milkshakeD', 'task-GoNoGo2', 'task-GoNoGo1'],\n",
       " 'sub-133': ['task-milkshakeD', 'task-GoNoGo2', 'task-GoNoGo1'],\n",
       " 'sub-099': ['task-milkshakeD', 'task-GoNoGo2', 'task-GoNoGo1'],\n",
       " 'sub-101': ['task-milkshakeD', 'task-GoNoGo2', 'task-GoNoGo1'],\n",
       " 'sub-136': ['task-GoNoGo1', 'task-GoNoGo2', 'task-milkshakeD'],\n",
       " 'sub-102': ['task-GoNoGo1', 'task-milkshakeD', 'task-GoNoGo2'],\n",
       " 'sub-137': ['task-GoNoGo2', 'task-milkshakeD', 'task-GoNoGo1'],\n",
       " 'sub-103': ['task-GoNoGo1', 'task-GoNoGo2', 'task-milkshakeD'],\n",
       " 'sub-138': ['task-milkshakeD', 'task-GoNoGo2', 'task-GoNoGo1'],\n",
       " 'sub-142': ['task-milkshakeD', 'task-GoNoGo1', 'task-GoNoGo2'],\n",
       " 'sub-104': ['task-milkshakeD', 'task-GoNoGo2', 'task-GoNoGo1'],\n",
       " 'sub-143': ['task-milkshakeD', 'task-GoNoGo2', 'task-GoNoGo1'],\n",
       " 'sub-105': ['task-GoNoGo2', 'task-milkshakeD', 'task-GoNoGo1'],\n",
       " 'sub-144': ['task-milkshakeD', 'task-GoNoGo1', 'task-GoNoGo2'],\n",
       " 'sub-106': ['task-milkshakeD', 'task-GoNoGo2', 'task-GoNoGo1'],\n",
       " 'sub-145': ['task-milkshakeD', 'task-GoNoGo2', 'task-GoNoGo1'],\n",
       " 'sub-107': ['task-milkshakeD', 'task-GoNoGo2', 'task-GoNoGo1'],\n",
       " 'sub-150': ['task-milkshakeD', 'task-GoNoGo2', 'task-GoNoGo1'],\n",
       " 'sub-108': ['task-milkshakeD', 'task-GoNoGo1', 'task-GoNoGo2'],\n",
       " 'sub-151': ['task-milkshakeD', 'task-GoNoGo1', 'task-GoNoGo2'],\n",
       " 'sub-109': ['task-GoNoGo2', 'task-GoNoGo1', 'task-milkshakeD'],\n",
       " 'sub-110': ['task-GoNoGo1', 'task-GoNoGo2', 'task-milkshakeD'],\n",
       " 'sub-152': ['task-GoNoGo2', 'task-GoNoGo1', 'task-milkshakeD'],\n",
       " 'sub-112': ['task-milkshakeD', 'task-GoNoGo2', 'task-GoNoGo1'],\n",
       " 'sub-153': ['task-GoNoGo2', 'task-GoNoGo1', 'task-milkshakeD'],\n",
       " 'sub-154': ['task-milkshakeD', 'task-GoNoGo2', 'task-GoNoGo1'],\n",
       " 'sub-113': ['task-GoNoGo1', 'task-GoNoGo2', 'task-milkshakeD']}"
      ]
     },
     "execution_count": 34,
     "metadata": {},
     "output_type": "execute_result"
    }
   ],
   "source": [
    "dict"
   ]
  },
  {
   "cell_type": "code",
   "execution_count": null,
   "metadata": {},
   "outputs": [],
   "source": []
  }
 ],
 "metadata": {
  "kernelspec": {
   "display_name": "Python 3",
   "language": "python",
   "name": "python3"
  },
  "language_info": {
   "codemirror_mode": {
    "name": "ipython",
    "version": 3
   },
   "file_extension": ".py",
   "mimetype": "text/x-python",
   "name": "python",
   "nbconvert_exporter": "python",
   "pygments_lexer": "ipython3",
   "version": "3.6.5"
  }
 },
 "nbformat": 4,
 "nbformat_minor": 2
}
